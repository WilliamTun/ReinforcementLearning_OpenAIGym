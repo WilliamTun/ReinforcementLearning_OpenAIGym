{
 "cells": [
  {
   "cell_type": "markdown",
   "metadata": {},
   "source": [
    "# Deep Q Network \n",
    "\n",
    "- deep reinforcement learning algorithm \n",
    "\n",
    "### Q function / state-action value function\n",
    "- this function evaluates how good an action a is in state s. \n",
    "- we do this by creating a Q table \n",
    "- which stores all actions possible in each state - and each have a q value. \n",
    "- we then tend to pick the action for state s which has the highest q value. This was used in the Q learning in the temporal difference learning chapter\n",
    "\n",
    "### Why use DQNs? \n",
    "\n",
    "- We use DQNs when the environment has so many states that it would be time consuming to calculate everything. \n",
    "- What is we have an environment with LOTS of states? hundreds of states, thousands of states! To calculate the q value for each action per state, Big-O would be exponential & time consuming... since we would have to go through and perform each of the actions in each state. \n",
    "- It would be better to use a neural network with weight theta to approximate the q value for each state. Thus we call this q-value approximating neural network a \"Q network.\""
   ]
  },
  {
   "cell_type": "markdown",
   "metadata": {},
   "source": [
    "# Experience replay\n",
    "- RL environments have transitions from state s to next state s' ... determined by perfoming actions and recieving rewards. \n",
    "- The transitions are called the agents experience. \n",
    "\n",
    "### What is Experience replay?\n",
    "- We train Deep Q network with transitions sampled from the replay buffer. \n",
    "- Using a replay buffer stops overfitting. \n",
    "- The replay buffer is more of a que than a list - only a fixed number of recent experiences are stored... and when new information comes in, the old information is deleted. "
   ]
  },
  {
   "cell_type": "markdown",
   "metadata": {},
   "source": [
    "# Target Network. \n",
    "\n",
    "- loss function calculates squared difference between target and predicted value\n",
    "- A separate neural network called a target network for calculating target. \n",
    "\n",
    "- Q network predicts Q values.\n",
    "- Target network calculates target. \n",
    "\n",
    "- The target network is frozen for several time steps - and then the T-network weights are updated by copying the weights of actual Q network."
   ]
  },
  {
   "cell_type": "code",
   "execution_count": 1,
   "metadata": {},
   "outputs": [],
   "source": [
    "import numpy as np\n",
    "import gym\n",
    "import tensorflow as tf\n",
    "from tensorflow.contrib.layers import flatten, conv2d, fully_connected \n",
    "from collections import deque, Counter\n",
    "import random\n",
    "from datetime import datetime"
   ]
  },
  {
   "cell_type": "code",
   "execution_count": 2,
   "metadata": {},
   "outputs": [
    {
     "name": "stderr",
     "output_type": "stream",
     "text": [
      "[2018-10-28 20:03:18,267] Making new env: MsPacman-v0\n"
     ]
    }
   ],
   "source": [
    "env = gym.make(\"MsPacman-v0\")\n",
    "n_outputs = env.action_space.n"
   ]
  },
  {
   "cell_type": "code",
   "execution_count": 3,
   "metadata": {},
   "outputs": [],
   "source": [
    "# function to preprocess input game screen - to reduce image size and convert to greyscale\n",
    "color = np.array([210, 164, 74]).mean()\n",
    "\n",
    "def preprocess_observation(obs):\n",
    "    img = obs[1:176:2, ::2]\n",
    "    img = img.mean(axis=2)\n",
    "    img[img==color] = 0\n",
    "    img = (img-128) / (128-1)\n",
    "    return img.reshape(88,80,1)"
   ]
  },
  {
   "cell_type": "code",
   "execution_count": 4,
   "metadata": {},
   "outputs": [],
   "source": [
    "# define Q network \n",
    "# Q network inputs: game state x\n",
    "# The Q network architecture:\n",
    "# - is built with convolutional layers with padding, followed by a fully connected layer. \n",
    "\n",
    "tf.reset_default_graph()\n",
    "\n",
    "def q_network(X, name_scope):\n",
    "    # intialise layers\n",
    "    initializer = tf.contrib.layers.variance_scaling_initializer()\n",
    "    \n",
    "    with tf.variable_scope(name_scope) as scope:\n",
    "        # initialize convolutional layers\n",
    "        layer_1 = conv2d(X, num_outputs=32, kernel_size=(8,8), stride=4, padding=\"SAME\", weights_initializer=initializer)\n",
    "        tf.summary.histogram(\"layer1\", layer_1)\n",
    "        layer_2 = conv2d(layer_1, num_outputs=64, kernel_size=(4,4), stride=2, padding=\"SAME\", weights_initializer=initializer)\n",
    "        tf.summary.histogram(\"layer2\", layer_2)\n",
    "        layer_3 = conv2d(layer_2, num_outputs=64, kernel_size=(3,3), stride=1, padding=\"SAME\", weights_initializer=initializer)\n",
    "        tf.summary.histogram(\"layer3\", layer_3)\n",
    "        # flatten the result of layer_3 before feeding to the fully connected layer. \n",
    "        flat = flatten(layer_3)\n",
    "        \n",
    "        fc = fully_connected(flat, num_outputs=128, weights_initializer=initializer)\n",
    "        tf.summary.histogram(\"fc\", fc)\n",
    "        output = fully_connected(fc, num_outputs=n_outputs, activation_fn=None, weights_initializer=initializer)\n",
    "        tf.summary.histogram(\"output\", output)\n",
    "        \n",
    "        # vars will store the parameters of the network such as weights\n",
    "        vars2 = {v.name[len(scope.name):]: v for v in tf.get_collection(key=tf.GraphKeys.TRAINABLE_VARIABLES, scope=scope.name)}\n",
    "        return(vars2, output)\n",
    "        \n",
    "        "
   ]
  },
  {
   "cell_type": "code",
   "execution_count": 5,
   "metadata": {},
   "outputs": [],
   "source": [
    "# Epsilon greedy function\n",
    "\n",
    "epsilon = 0.5\n",
    "eps_min = 0.05\n",
    "eps_max = 1.0 \n",
    "eps_decay_steps = 500000\n",
    "def epsilon_greedy(action, step):\n",
    "    p = np.random.random(1).squeeze()\n",
    "    epsilon = max(eps_min, eps_max - (eps_max-eps_min) * step / eps_decay_steps)\n",
    "    if np.random.rand() < epsilon:\n",
    "        return(np.random.randint(n_outputs))\n",
    "    else:\n",
    "        return(action)"
   ]
  },
  {
   "cell_type": "code",
   "execution_count": 6,
   "metadata": {},
   "outputs": [],
   "source": [
    "# Store agents experiences (state, action, reward) in experience replay buffer\n",
    "# and sample minibatches of experiences for training network\n",
    "\n",
    "def sample_memories(batch_size):\n",
    "    perm_batch = np.random.permutation(len(exp_buffer))[:batch_size]\n",
    "    mem = np.array(exp_buffer)[perm_batch]\n",
    "    return mem[:,0], mem[:,1], mem[:,2], mem[:,3], mem[:,4]"
   ]
  },
  {
   "cell_type": "code",
   "execution_count": 7,
   "metadata": {},
   "outputs": [],
   "source": [
    "# define hyper parameters\n",
    "num_episodes = 800\n",
    "batch_size = 48\n",
    "input_shape = (None, 88, 80, 1)\n",
    "learning_rate = 0.001 \n",
    "X_shape = (None, 88, 80, 1)\n",
    "discount_factor = 0.97 \n",
    "\n",
    "global_step = 0\n",
    "copy_steps = 100\n",
    "steps_train = 4\n",
    "start_steps = 2000\n",
    "logdir = 'logs'"
   ]
  },
  {
   "cell_type": "code",
   "execution_count": 8,
   "metadata": {},
   "outputs": [],
   "source": [
    "X = tf.placeholder(tf.float32, shape=X_shape)\n",
    "in_training_mode = tf.placeholder(tf.bool)"
   ]
  },
  {
   "cell_type": "code",
   "execution_count": 9,
   "metadata": {},
   "outputs": [],
   "source": [
    "mainQ, mainQ_outputs = q_network(X, \"mainQ\")"
   ]
  },
  {
   "cell_type": "code",
   "execution_count": 10,
   "metadata": {},
   "outputs": [],
   "source": [
    "targetQ, targetQ_outputs = q_network(X, \"targetQ\")"
   ]
  },
  {
   "cell_type": "code",
   "execution_count": 11,
   "metadata": {},
   "outputs": [],
   "source": [
    "X_action = tf.placeholder(tf.int32, shape=(None,))"
   ]
  },
  {
   "cell_type": "code",
   "execution_count": 12,
   "metadata": {},
   "outputs": [],
   "source": [
    "Q_action = tf.reduce_sum(targetQ_outputs * tf.one_hot(X_action, n_outputs), axis=-1, keep_dims=True)"
   ]
  },
  {
   "cell_type": "code",
   "execution_count": 13,
   "metadata": {},
   "outputs": [],
   "source": [
    "copy_op = [tf.assign(main_name, targetQ[var_name]) for var_name, main_name in mainQ.items()]\n"
   ]
  },
  {
   "cell_type": "code",
   "execution_count": 14,
   "metadata": {},
   "outputs": [],
   "source": [
    "copy_target_to_main = tf.group(*copy_op)"
   ]
  },
  {
   "cell_type": "code",
   "execution_count": 15,
   "metadata": {},
   "outputs": [],
   "source": [
    "y = tf.placeholder(tf.float32, shape=(None, 1))"
   ]
  },
  {
   "cell_type": "code",
   "execution_count": 16,
   "metadata": {},
   "outputs": [],
   "source": [
    "loss = tf.reduce_mean(tf.square(y - Q_action))"
   ]
  },
  {
   "cell_type": "code",
   "execution_count": 17,
   "metadata": {},
   "outputs": [],
   "source": [
    "optimizer = tf.train.AdamOptimizer(learning_rate)\n",
    "training_op = optimizer.minimize(loss)"
   ]
  },
  {
   "cell_type": "code",
   "execution_count": 18,
   "metadata": {},
   "outputs": [],
   "source": [
    "loss_summary = tf.summary.scalar('LOSS', loss)\n",
    "merge_summary = tf.summary.merge_all()\n",
    "file_writer = tf.summary.FileWriter(logdir, tf.get_default_graph())"
   ]
  },
  {
   "cell_type": "code",
   "execution_count": 23,
   "metadata": {},
   "outputs": [],
   "source": [
    "exp_buffer = []"
   ]
  },
  {
   "cell_type": "code",
   "execution_count": 25,
   "metadata": {},
   "outputs": [
    {
     "name": "stdout",
     "output_type": "stream",
     "text": [
      "Epoch 0 Reward 0\n"
     ]
    },
    {
     "ename": "ValueError",
     "evalue": "cannot reshape array of size 1760 into shape (88,80,1)",
     "output_type": "error",
     "traceback": [
      "\u001b[0;31m---------------------------------------------------------------------------\u001b[0m",
      "\u001b[0;31mValueError\u001b[0m                                Traceback (most recent call last)",
      "\u001b[0;32m<ipython-input-25-ed7aecc507c9>\u001b[0m in \u001b[0;36m<module>\u001b[0;34m\u001b[0m\n\u001b[1;32m     15\u001b[0m             \u001b[0;31m# env.render()\u001b[0m\u001b[0;34m\u001b[0m\u001b[0;34m\u001b[0m\u001b[0m\n\u001b[1;32m     16\u001b[0m             \u001b[0;31m# get preprocessed game screen\u001b[0m\u001b[0;34m\u001b[0m\u001b[0;34m\u001b[0m\u001b[0m\n\u001b[0;32m---> 17\u001b[0;31m             \u001b[0mobs\u001b[0m \u001b[0;34m=\u001b[0m \u001b[0mpreprocess_observation\u001b[0m\u001b[0;34m(\u001b[0m\u001b[0mobs\u001b[0m\u001b[0;34m)\u001b[0m\u001b[0;34m\u001b[0m\u001b[0m\n\u001b[0m\u001b[1;32m     18\u001b[0m             \u001b[0;31m# feed the game screen and get the q values for each action\u001b[0m\u001b[0;34m\u001b[0m\u001b[0;34m\u001b[0m\u001b[0m\n\u001b[1;32m     19\u001b[0m             \u001b[0mactions\u001b[0m \u001b[0;34m=\u001b[0m \u001b[0mmainQ_outputs\u001b[0m\u001b[0;34m.\u001b[0m\u001b[0meval\u001b[0m\u001b[0;34m(\u001b[0m\u001b[0mfeed_dict\u001b[0m\u001b[0;34m=\u001b[0m\u001b[0;34m{\u001b[0m\u001b[0mX\u001b[0m\u001b[0;34m:\u001b[0m\u001b[0;34m[\u001b[0m\u001b[0mobs\u001b[0m\u001b[0;34m]\u001b[0m\u001b[0;34m,\u001b[0m \u001b[0min_training_mode\u001b[0m\u001b[0;34m:\u001b[0m\u001b[0;32mFalse\u001b[0m\u001b[0;34m}\u001b[0m\u001b[0;34m)\u001b[0m\u001b[0;34m\u001b[0m\u001b[0m\n",
      "\u001b[0;32m<ipython-input-3-308936be5536>\u001b[0m in \u001b[0;36mpreprocess_observation\u001b[0;34m(obs)\u001b[0m\n\u001b[1;32m      7\u001b[0m     \u001b[0mimg\u001b[0m\u001b[0;34m[\u001b[0m\u001b[0mimg\u001b[0m\u001b[0;34m==\u001b[0m\u001b[0mcolor\u001b[0m\u001b[0;34m]\u001b[0m \u001b[0;34m=\u001b[0m \u001b[0;36m0\u001b[0m\u001b[0;34m\u001b[0m\u001b[0m\n\u001b[1;32m      8\u001b[0m     \u001b[0mimg\u001b[0m \u001b[0;34m=\u001b[0m \u001b[0;34m(\u001b[0m\u001b[0mimg\u001b[0m\u001b[0;34m-\u001b[0m\u001b[0;36m128\u001b[0m\u001b[0;34m)\u001b[0m \u001b[0;34m/\u001b[0m \u001b[0;34m(\u001b[0m\u001b[0;36m128\u001b[0m\u001b[0;34m-\u001b[0m\u001b[0;36m1\u001b[0m\u001b[0;34m)\u001b[0m\u001b[0;34m\u001b[0m\u001b[0m\n\u001b[0;32m----> 9\u001b[0;31m     \u001b[0;32mreturn\u001b[0m \u001b[0mimg\u001b[0m\u001b[0;34m.\u001b[0m\u001b[0mreshape\u001b[0m\u001b[0;34m(\u001b[0m\u001b[0;36m88\u001b[0m\u001b[0;34m,\u001b[0m\u001b[0;36m80\u001b[0m\u001b[0;34m,\u001b[0m\u001b[0;36m1\u001b[0m\u001b[0;34m)\u001b[0m\u001b[0;34m\u001b[0m\u001b[0m\n\u001b[0m",
      "\u001b[0;31mValueError\u001b[0m: cannot reshape array of size 1760 into shape (88,80,1)"
     ]
    }
   ],
   "source": [
    "init = tf.global_variables_initializer()\n",
    "with tf.Session() as sess:\n",
    "    init.run()\n",
    "    # for each episode\n",
    "    for i in range(num_episodes):\n",
    "        done = False\n",
    "        obs = env.reset()\n",
    "        epoch = 0\n",
    "        episodic_reward = 0\n",
    "        actions_counter = Counter()\n",
    "        episodic_loss = []\n",
    "        \n",
    "        # while the state is not the terminal state: \n",
    "        while not done:\n",
    "            # env.render()\n",
    "            # get preprocessed game screen\n",
    "            obs = preprocess_observation(obs)\n",
    "            # feed the game screen and get the q values for each action\n",
    "            actions = mainQ_outputs.eval(feed_dict={X:[obs], in_training_mode:False})\n",
    "            \n",
    "            # get the action\n",
    "            action = np.argmax(actions, axis=-1)\n",
    "            actions_counter[str(action)] += 1\n",
    "            \n",
    "            # select the action using epsilon greedy policy\n",
    "            action = epsilon_greedy(action, global_step)\n",
    "            \n",
    "            # perform the action and move to the next state + recieve reward\n",
    "            next_obs, reward, done, _ = env.step(action)\n",
    "            \n",
    "            # store the transition as an experience in the replay buffer\n",
    "            exp_buffer.append([obs, action, preprocess_observation(next_obs), reward, done])\n",
    "            \n",
    "            # after certain steps, we train our Q network with samples from the experience replay buffer\n",
    "            if global_step % steps_train ==0 and global_step > start_steps: \n",
    "                # sample experience\n",
    "                o_obs, o_act, o_next_obs, o_rew, o_done = sample_memories(batch_size)\n",
    "                \n",
    "                # 1. states\n",
    "                o_obs = [x for x in o_obs]\n",
    "                \n",
    "                # 2. next_states\n",
    "                o_next_obs = [x for x in o_next_obs]\n",
    "                \n",
    "                # 3. next actions \n",
    "                next_act = mainQ_outputs.eval(feed_dict={X:o_next_obs, in_training_mode:False})\n",
    "                \n",
    "                # reward\n",
    "                y_batch = o_rew + discount_factor * np.max(next_act, axis=-1) * (1-o_done)\n",
    "                \n",
    "                # merge all summaries and write to the file\n",
    "                \n",
    "                mrg_summary = merge_summary.eval(feed_dict={X:o_obs, y:np.expand_dims(y_batch, axis=-1), X_action:o_act, in_training_mode:False})\n",
    "                \n",
    "                file_writer.add_summary(mrg_summary, global_step)\n",
    "                \n",
    "                # train network and calculate loss\n",
    "                \n",
    "                train_loss, _ = sess.run([loss, training_op], feed_dict={X:o_obs, y:np.expand_dims(y_batch, axis=-1), X_action:o_act, in_training_mode:True})\n",
    "                \n",
    "                episodic_loss.append(training_loss)\n",
    "                \n",
    "                # after some interval we copy our main Q network weights to target Q network\n",
    "                if (global_step+1) % copy_steps == 0 and global_step > start_steps:\n",
    "                    copy_target_to_main.run()\n",
    "                \n",
    "                obs = next_obs\n",
    "                epoch += 1\n",
    "                global_step += 1\n",
    "                episodic_reward += reward\n",
    "            print(\"Epoch\", epoch, \"Reward\", episodic_reward,)"
   ]
  },
  {
   "cell_type": "code",
   "execution_count": 26,
   "metadata": {},
   "outputs": [],
   "source": [
    "# https://medium.com/@jonathan_hui/rl-dqn-deep-q-network-e207751f7ae4"
   ]
  },
  {
   "cell_type": "code",
   "execution_count": 27,
   "metadata": {},
   "outputs": [],
   "source": [
    "# https://becominghuman.ai/lets-build-an-atari-ai-part-1-dqn-df57e8ff3b26"
   ]
  },
  {
   "cell_type": "code",
   "execution_count": null,
   "metadata": {},
   "outputs": [],
   "source": []
  }
 ],
 "metadata": {
  "kernelspec": {
   "display_name": "Python 3",
   "language": "python",
   "name": "python3"
  },
  "language_info": {
   "codemirror_mode": {
    "name": "ipython",
    "version": 3
   },
   "file_extension": ".py",
   "mimetype": "text/x-python",
   "name": "python",
   "nbconvert_exporter": "python",
   "pygments_lexer": "ipython3",
   "version": "3.6.6"
  }
 },
 "nbformat": 4,
 "nbformat_minor": 2
}
