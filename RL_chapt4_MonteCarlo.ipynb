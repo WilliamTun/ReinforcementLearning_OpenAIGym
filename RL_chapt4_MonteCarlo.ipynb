{
 "cells": [
  {
   "cell_type": "code",
   "execution_count": 1,
   "metadata": {},
   "outputs": [],
   "source": [
    "import gym\n",
    "from matplotlib import pyplot\n",
    "import matplotlib.pyplot as plt"
   ]
  },
  {
   "cell_type": "code",
   "execution_count": 2,
   "metadata": {},
   "outputs": [],
   "source": [
    "from collections import defaultdict\n",
    "from functools import partial"
   ]
  },
  {
   "cell_type": "code",
   "execution_count": 3,
   "metadata": {},
   "outputs": [],
   "source": [
    "%matplotlib inline\n",
    "plt.style.use('ggplot')"
   ]
  },
  {
   "cell_type": "code",
   "execution_count": 4,
   "metadata": {},
   "outputs": [
    {
     "name": "stderr",
     "output_type": "stream",
     "text": [
      "[2018-10-19 20:53:31,027] Making new env: Blackjack-v0\n"
     ]
    }
   ],
   "source": [
    "env = gym.make('Blackjack-v0')"
   ]
  },
  {
   "cell_type": "code",
   "execution_count": 5,
   "metadata": {},
   "outputs": [],
   "source": [
    "# blackjack \n",
    "# rewards\n",
    "# +1 if player wins game\n",
    "# -1 if player loses game\n",
    "# 0 if game is a draw"
   ]
  },
  {
   "cell_type": "code",
   "execution_count": 6,
   "metadata": {},
   "outputs": [],
   "source": [
    "def sample_policy(observation):\n",
    "    '''\n",
    "    This function is an input to and used in generate_episode()\n",
    "    '''\n",
    "    score, dealer_score, usable_ace = observation\n",
    "    if score >= 20:\n",
    "        return(0)\n",
    "    else:\n",
    "        return(1)"
   ]
  },
  {
   "cell_type": "code",
   "execution_count": 10,
   "metadata": {},
   "outputs": [],
   "source": [
    "my_policy = sample_policy"
   ]
  },
  {
   "cell_type": "code",
   "execution_count": 8,
   "metadata": {},
   "outputs": [],
   "source": [
    "def generate_episode(policy, env): \n",
    "    '''\n",
    "    This function is used in the first_visit_mc_prediction()\n",
    "    This function is called again and again for each episode generated.\n",
    "    '''\n",
    "    \n",
    "    states, actions, rewards = [], [], []\n",
    "    observation = env.reset()\n",
    "    while True:\n",
    "        states.append(observation)  # append observations to states list\n",
    "        action = policy(observation) \n",
    "        actions.append(action)\n",
    "        observation, reward, done, info = env.step(action)\n",
    "        rewards.append(reward)\n",
    "        if done: # break during terminal state\n",
    "            break\n",
    "    return(states, actions, rewards)\n",
    "        \n",
    "        "
   ]
  },
  {
   "cell_type": "code",
   "execution_count": 16,
   "metadata": {},
   "outputs": [
    {
     "data": {
      "text/plain": [
       "([(8, 10, False), (19, 10, True), (17, 10, False)], [1, 1, 1], [0, 0, -1])"
      ]
     },
     "execution_count": 16,
     "metadata": {},
     "output_type": "execute_result"
    }
   ],
   "source": [
    "generate_episode(policy=my_policy, env=env)"
   ]
  },
  {
   "cell_type": "code",
   "execution_count": 17,
   "metadata": {},
   "outputs": [],
   "source": [
    "def first_visit_mc_prediction(policy, env, n_episodes):\n",
    "    value_table = defaultdict(float)\n",
    "    N = defaultdict(int)\n",
    "    \n",
    "    for _ in range(n_episodes):\n",
    "        states, _, rewards = generate_episode(policy, env)\n",
    "        returns = 0\n",
    "        for t in range(len(states) -1, -1, -1): # for all states - get rewards and states + and return Rewards\n",
    "            R = rewards[t]\n",
    "            S = states[t]\n",
    "            returns += R\n",
    "            \n",
    "            if S not in states[:t]:\n",
    "                N[S] += 1\n",
    "                value_table[S] += (returns - value_table[S]) / N[S]\n",
    "    \n",
    "    return(value_table)"
   ]
  },
  {
   "cell_type": "code",
   "execution_count": 19,
   "metadata": {},
   "outputs": [
    {
     "data": {
      "text/plain": [
       "defaultdict(float,\n",
       "            {(21, 2, False): 1.0,\n",
       "             (17, 2, False): 1.0,\n",
       "             (19, 8, False): -1.0,\n",
       "             (18, 8, False): -1.0,\n",
       "             (16, 8, False): -1.0,\n",
       "             (16, 10, False): -1.0,\n",
       "             (20, 5, False): 0.0,\n",
       "             (21, 10, True): 1.0,\n",
       "             (20, 10, False): 1.0,\n",
       "             (16, 4, False): -1.0,\n",
       "             (6, 4, False): -1.0,\n",
       "             (21, 2, True): 1.0,\n",
       "             (17, 2, True): 1.0,\n",
       "             (21, 9, False): 1.0,\n",
       "             (11, 9, False): 1.0,\n",
       "             (15, 9, False): -1.0,\n",
       "             (5, 9, False): -1.0})"
      ]
     },
     "execution_count": 19,
     "metadata": {},
     "output_type": "execute_result"
    }
   ],
   "source": [
    "first_visit_mc_prediction(policy=my_policy, env=env, n_episodes=10)"
   ]
  },
  {
   "cell_type": "code",
   "execution_count": null,
   "metadata": {},
   "outputs": [],
   "source": []
  },
  {
   "cell_type": "code",
   "execution_count": null,
   "metadata": {},
   "outputs": [],
   "source": []
  }
 ],
 "metadata": {
  "kernelspec": {
   "display_name": "Python 3",
   "language": "python",
   "name": "python3"
  },
  "language_info": {
   "codemirror_mode": {
    "name": "ipython",
    "version": 3
   },
   "file_extension": ".py",
   "mimetype": "text/x-python",
   "name": "python",
   "nbconvert_exporter": "python",
   "pygments_lexer": "ipython3",
   "version": "3.6.6"
  }
 },
 "nbformat": 4,
 "nbformat_minor": 2
}
